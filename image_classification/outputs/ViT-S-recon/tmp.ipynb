{
 "cells": [
  {
   "cell_type": "code",
   "execution_count": 1,
   "metadata": {},
   "outputs": [
    {
     "name": "stdout",
     "output_type": "stream",
     "text": [
      "1\n"
     ]
    }
   ],
   "source": [
    "print(1)\n"
   ]
  },
  {
   "cell_type": "code",
   "execution_count": 11,
   "metadata": {},
   "outputs": [],
   "source": [
    "import json\n",
    "\n",
    "train_lr_list = []\n",
    "train_loss_list = []\n",
    "test_loss_list = []\n",
    "test_acc1_list = []\n",
    "test_acc5_list = []\n",
    "epoch_list = []\n",
    "n_parameters_list = []\n",
    "\n",
    "\n",
    "with open('./log.txt', 'r') as f:\n",
    "    for line in f:\n",
    "        data = json.loads(line.strip())\n",
    "        train_lr_list.append(data['train_lr'])\n",
    "        train_loss_list.append(data['train_loss'])\n",
    "        test_loss_list.append(data['test_loss'])\n",
    "        test_acc1_list.append(data['test_acc1'])\n",
    "        test_acc5_list.append(data['test_acc5'])\n",
    "        epoch_list.append(data['epoch'])\n",
    "        n_parameters_list.append(data['n_parameters'])\n",
    "    "
   ]
  },
  {
   "cell_type": "code",
   "execution_count": 19,
   "metadata": {},
   "outputs": [],
   "source": [
    "import pandas as pd\n",
    "data = {\n",
    "    \"epoch\" : epoch_list,\n",
    "    \"train_lr\" : train_lr_list,\n",
    "    \"train_loss\" : train_loss_list,\n",
    "    \"test_loss\" : test_loss_list,\n",
    "    \"test_acc1\" : test_acc1_list,\n",
    "    \"test_acc5\" : test_acc5_list,\n",
    "    \"n_parameters\" : n_parameters_list\n",
    "}\n",
    "\n",
    "df = pd.DataFrame(data)\n",
    "csv_dir = './train_log.csv'\n",
    "df.to_csv(csv_dir, index=False)"
   ]
  },
  {
   "cell_type": "code",
   "execution_count": 12,
   "metadata": {},
   "outputs": [],
   "source": [
    "train_lr_list = train_lr_list[3:]\n",
    "train_loss_list = train_loss_list[3:]\n",
    "test_loss_list = test_loss_list[3:]\n",
    "test_acc1_list = test_acc1_list[3:]\n",
    "test_acc5_list = test_acc5_list[3:]\n",
    "epoch_list = epoch_list[3:]\n",
    "n_parameters_list = n_parameters_list[3:]"
   ]
  },
  {
   "cell_type": "code",
   "execution_count": 16,
   "metadata": {},
   "outputs": [],
   "source": [
    "epoch_list = [x+1 for x in epoch_list]\n"
   ]
  },
  {
   "cell_type": "code",
   "execution_count": 17,
   "metadata": {},
   "outputs": [
    {
     "data": {
      "text/plain": [
       "[1, 2, 3, 4, 5, 6, 7, 8, 9, 10, 11, 12, 13, 14, 15, 16, 17, 18, 19, 20, 21]"
      ]
     },
     "execution_count": 17,
     "metadata": {},
     "output_type": "execute_result"
    }
   ],
   "source": [
    "epoch_list"
   ]
  }
 ],
 "metadata": {
  "kernelspec": {
   "display_name": "FLLM",
   "language": "python",
   "name": "python3"
  },
  "language_info": {
   "codemirror_mode": {
    "name": "ipython",
    "version": 3
   },
   "file_extension": ".py",
   "mimetype": "text/x-python",
   "name": "python",
   "nbconvert_exporter": "python",
   "pygments_lexer": "ipython3",
   "version": "3.8.20"
  }
 },
 "nbformat": 4,
 "nbformat_minor": 2
}
